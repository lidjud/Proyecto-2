{
  "nbformat": 4,
  "nbformat_minor": 0,
  "metadata": {
    "colab": {
      "name": "admon_cuenta_bancaria.ipynb",
      "provenance": [],
      "authorship_tag": "ABX9TyPyU8J0nyzaFDRlibSH3wh4",
      "include_colab_link": true
    },
    "kernelspec": {
      "name": "python3",
      "display_name": "Python 3"
    },
    "language_info": {
      "name": "python"
    }
  },
  "cells": [
    {
      "cell_type": "markdown",
      "metadata": {
        "id": "view-in-github",
        "colab_type": "text"
      },
      "source": [
        "<a href=\"https://colab.research.google.com/github/lidjud/Proyecto-2/blob/main/admon_cuenta_bancaria.ipynb\" target=\"_parent\"><img src=\"https://colab.research.google.com/assets/colab-badge.svg\" alt=\"Open In Colab\"/></a>"
      ]
    },
    {
      "cell_type": "markdown",
      "source": [
        " # **Administración de cuenta bancaria** 💸"
      ],
      "metadata": {
        "id": "0Sj85yK8-EBB"
      }
    },
    {
      "cell_type": "markdown",
      "source": [
        "Se requiere un programa para administrar la cuenta bancaria de los usuarios realizando una bitácora de operaciones.\n",
        "\n",
        "La bitácora de operaciones tiene la siguiente forma:\n",
        "\n",
        "**D 100 R 50**\n",
        "\n",
        "Donde:\n",
        "\n",
        "\n",
        "*   **D 100**: **D** es equivalente a **depósito** con 100 pesos\n",
        "*   **R 50**: **R** es equivalente a **retiro** con 50 pesos\n",
        "*   **\"línea vacia\"**: significa que ha ingresado todas las operaciones\n",
        "\n",
        "\n",
        "\n",
        "\n",
        "Ejemplo:\n",
        "D 500\n",
        "D 200.20\n",
        "R 50.5\n",
        "R 125\n",
        "\n",
        "La salida de esta bitácora debe ser: 524.70"
      ],
      "metadata": {
        "id": "HOgYP8v7-Hk8"
      }
    },
    {
      "cell_type": "markdown",
      "source": [
        "## **Análisis**: \n",
        "\n",
        " \n",
        "\n",
        "1.   El programa debe contener un ciclo infinito para que el usuario pueda ingresar las operaciones que desee. \n",
        "2.   El programa debe detectar cuando el usuario introduzca una línea en blanco. \n",
        "3.   Para cada entrada hay que separar la primera letra del valor numérico en una misma lista.\n",
        "4.   Si la letra es “D”, sumar a saldo el valor numérico. Si la letra es “R”, restar a saldo el valor numérico.\n",
        "5.   Imprime el resultado en pantalla.\n",
        "6.   Cada elemento de saldo se debe ir a agregando a una lista, y cada elemento de operación, se debe guardar en otra lista."
      ],
      "metadata": {
        "id": "S7aA5RrR-Kg5"
      }
    },
    {
      "cell_type": "code",
      "execution_count": null,
      "metadata": {
        "id": "8BZqbXHX9_5x"
      },
      "outputs": [],
      "source": [
        ""
      ]
    }
  ]
}